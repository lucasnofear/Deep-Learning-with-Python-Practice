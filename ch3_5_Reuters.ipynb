{
  "nbformat": 4,
  "nbformat_minor": 0,
  "metadata": {
    "colab": {
      "name": "ch3.5_Reuters.ipynb",
      "provenance": [],
      "authorship_tag": "ABX9TyPFgfE4iuSi+4J4BVGA0KnU",
      "include_colab_link": true
    },
    "kernelspec": {
      "name": "python3",
      "display_name": "Python 3"
    }
  },
  "cells": [
    {
      "cell_type": "markdown",
      "metadata": {
        "id": "view-in-github",
        "colab_type": "text"
      },
      "source": [
        "<a href=\"https://colab.research.google.com/github/lucasnofear/Deep-Learning-with-Python-Practice/blob/Keras-and-Tensorflow/ch3_5_Reuters.ipynb\" target=\"_parent\"><img src=\"https://colab.research.google.com/assets/colab-badge.svg\" alt=\"Open In Colab\"/></a>"
      ]
    },
    {
      "cell_type": "markdown",
      "metadata": {
        "id": "PM8L53wVlWEl",
        "colab_type": "text"
      },
      "source": [
        "Work with Reuters dataset to classify newswire into different categories."
      ]
    },
    {
      "cell_type": "code",
      "metadata": {
        "id": "RL4IuvzElPRh",
        "colab_type": "code",
        "colab": {
          "base_uri": "https://localhost:8080/",
          "height": 68
        },
        "outputId": "e6bed986-584c-4c2a-fe37-d0318fd2c4d3"
      },
      "source": [
        "from keras.datasets import reuters\n",
        "(train_data, train_labels), (test_data, test_labels) = reuters.load_data(num_words=10000)"
      ],
      "execution_count": 1,
      "outputs": [
        {
          "output_type": "stream",
          "text": [
            "Using TensorFlow backend.\n"
          ],
          "name": "stderr"
        },
        {
          "output_type": "stream",
          "text": [
            "Downloading data from https://s3.amazonaws.com/text-datasets/reuters.npz\n",
            "2113536/2110848 [==============================] - 0s 0us/step\n"
          ],
          "name": "stdout"
        }
      ]
    },
    {
      "cell_type": "code",
      "metadata": {
        "id": "V1beLQdAltBK",
        "colab_type": "code",
        "colab": {
          "base_uri": "https://localhost:8080/",
          "height": 34
        },
        "outputId": "96b169c9-a644-41c7-fc01-cf44adb5c30f"
      },
      "source": [
        "len(train_data), len(test_data)"
      ],
      "execution_count": 2,
      "outputs": [
        {
          "output_type": "execute_result",
          "data": {
            "text/plain": [
              "(8982, 2246)"
            ]
          },
          "metadata": {
            "tags": []
          },
          "execution_count": 2
        }
      ]
    },
    {
      "cell_type": "code",
      "metadata": {
        "id": "28unJU6sl3bQ",
        "colab_type": "code",
        "colab": {
          "base_uri": "https://localhost:8080/",
          "height": 54
        },
        "outputId": "ee81ea9c-72a5-43a6-a1a9-0d93ed6c2c29"
      },
      "source": [
        "# decode back to words\n",
        "word_index = reuters.get_word_index()\n",
        "reverse_word_index = dict([(value, key) for (key, value) in word_index.items()])\n",
        "decoded_newswire = ' '.join([reverse_word_index.get(i - 3, '?') for i in\n",
        "train_data[0]])\n",
        "decoded_newswire"
      ],
      "execution_count": 4,
      "outputs": [
        {
          "output_type": "execute_result",
          "data": {
            "text/plain": [
              "'? ? ? said as a result of its december acquisition of space co it expects earnings per share in 1987 of 1 15 to 1 30 dlrs per share up from 70 cts in 1986 the company said pretax net should rise to nine to 10 mln dlrs from six mln dlrs in 1986 and rental operation revenues to 19 to 22 mln dlrs from 12 5 mln dlrs it said cash flow per share this year should be 2 50 to three dlrs reuter 3'"
            ]
          },
          "metadata": {
            "tags": []
          },
          "execution_count": 4
        }
      ]
    },
    {
      "cell_type": "markdown",
      "metadata": {
        "id": "yQXfc-gvmjAy",
        "colab_type": "text"
      },
      "source": [
        "Prepare the data"
      ]
    },
    {
      "cell_type": "code",
      "metadata": {
        "id": "JgkcSaormTXr",
        "colab_type": "code",
        "colab": {}
      },
      "source": [
        "import numpy as np\n",
        "def vectorize_sequences(sequences, dimension=10000):\n",
        "  results = np.zeros((len(sequences), dimension))\n",
        "  for i, sequence in enumerate(sequences):\n",
        "    results[i, sequence] = 1.\n",
        "  return results\n",
        "x_train = vectorize_sequences(train_data)\n",
        "x_test = vectorize_sequences(test_data)"
      ],
      "execution_count": 0,
      "outputs": []
    },
    {
      "cell_type": "code",
      "metadata": {
        "id": "EaWP0MGIm0se",
        "colab_type": "code",
        "colab": {}
      },
      "source": [
        "# one-hot encodeing to vectorize the labels\n",
        "def to_one_hot(labels, dimension=46):\n",
        "  results = np.zeros((len(labels), dimension))\n",
        "  for i, label in enumerate(labels):\n",
        "    results[i, label] = 1.\n",
        "  return results\n",
        "one_hot_train_labels = to_one_hot(train_labels)\n",
        "one_hot_test_labels = to_one_hot(test_labels)"
      ],
      "execution_count": 0,
      "outputs": []
    },
    {
      "cell_type": "code",
      "metadata": {
        "id": "HbBxIIjsnTZW",
        "colab_type": "code",
        "colab": {}
      },
      "source": [
        "# or use the building in Keras function to do the one-hot encoding in the previous step\n",
        "from keras.utils.np_utils import to_categorical\n",
        "\n",
        "one_hot_train_labels = to_categorical(train_labels)\n",
        "one_hot_test_labels = to_categorical(test_labels)"
      ],
      "execution_count": 0,
      "outputs": []
    },
    {
      "cell_type": "code",
      "metadata": {
        "id": "GRonaD6ynrs-",
        "colab_type": "code",
        "colab": {
          "base_uri": "https://localhost:8080/",
          "height": 34
        },
        "outputId": "826f1c2d-2354-4f12-df4e-f52cb8b0a4af"
      },
      "source": [
        "one_hot_train_labels.shape"
      ],
      "execution_count": 13,
      "outputs": [
        {
          "output_type": "execute_result",
          "data": {
            "text/plain": [
              "(8982, 46)"
            ]
          },
          "metadata": {
            "tags": []
          },
          "execution_count": 13
        }
      ]
    },
    {
      "cell_type": "markdown",
      "metadata": {
        "id": "201SF9JQn-Gm",
        "colab_type": "text"
      },
      "source": [
        "Build the network"
      ]
    },
    {
      "cell_type": "code",
      "metadata": {
        "id": "lI7xIMt1nuVX",
        "colab_type": "code",
        "colab": {}
      },
      "source": [
        "from keras import models\n",
        "from keras import layers\n",
        "model = models.Sequential()\n",
        "model.add(layers.Dense(64, activation='relu', input_shape=(10000,)))\n",
        "model.add(layers.Dense(64, activation='relu'))\n",
        "model.add(layers.Dense(46, activation='softmax'))"
      ],
      "execution_count": 0,
      "outputs": []
    },
    {
      "cell_type": "code",
      "metadata": {
        "id": "OKlvWw-UoT7e",
        "colab_type": "code",
        "colab": {}
      },
      "source": [
        "model.compile(optimizer='rmsprop',\n",
        "loss='categorical_crossentropy',\n",
        "metrics=['accuracy'])"
      ],
      "execution_count": 0,
      "outputs": []
    },
    {
      "cell_type": "markdown",
      "metadata": {
        "id": "QrAsjjemqNjk",
        "colab_type": "text"
      },
      "source": [
        "Validatation"
      ]
    },
    {
      "cell_type": "code",
      "metadata": {
        "id": "02Z3y6LzqMsE",
        "colab_type": "code",
        "colab": {}
      },
      "source": [
        "x_val = x_train[:1000]\n",
        "partial_x_train = x_train[1000:]\n",
        "y_val = one_hot_train_labels[:1000]\n",
        "partial_y_train = one_hot_train_labels[1000:]"
      ],
      "execution_count": 0,
      "outputs": []
    },
    {
      "cell_type": "code",
      "metadata": {
        "id": "vQhDcpjUqR84",
        "colab_type": "code",
        "colab": {
          "base_uri": "https://localhost:8080/",
          "height": 714
        },
        "outputId": "54fb4f56-239f-4690-de41-9edd82601182"
      },
      "source": [
        "history = model.fit(partial_x_train,\n",
        "                  partial_y_train,\n",
        "                  epochs=20,\n",
        "                  batch_size=512,\n",
        "                  validation_data=(x_val, y_val))"
      ],
      "execution_count": 17,
      "outputs": [
        {
          "output_type": "stream",
          "text": [
            "Train on 7982 samples, validate on 1000 samples\n",
            "Epoch 1/20\n",
            "7982/7982 [==============================] - 1s 150us/step - loss: 2.6477 - accuracy: 0.5139 - val_loss: 1.7181 - val_accuracy: 0.6500\n",
            "Epoch 2/20\n",
            "7982/7982 [==============================] - 1s 119us/step - loss: 1.4133 - accuracy: 0.7027 - val_loss: 1.2976 - val_accuracy: 0.7250\n",
            "Epoch 3/20\n",
            "7982/7982 [==============================] - 1s 116us/step - loss: 1.0476 - accuracy: 0.7769 - val_loss: 1.1239 - val_accuracy: 0.7580\n",
            "Epoch 4/20\n",
            "7982/7982 [==============================] - 1s 116us/step - loss: 0.8293 - accuracy: 0.8265 - val_loss: 1.0365 - val_accuracy: 0.7800\n",
            "Epoch 5/20\n",
            "7982/7982 [==============================] - 1s 115us/step - loss: 0.6655 - accuracy: 0.8583 - val_loss: 0.9832 - val_accuracy: 0.7900\n",
            "Epoch 6/20\n",
            "7982/7982 [==============================] - 1s 115us/step - loss: 0.5335 - accuracy: 0.8877 - val_loss: 0.9459 - val_accuracy: 0.8000\n",
            "Epoch 7/20\n",
            "7982/7982 [==============================] - 1s 117us/step - loss: 0.4300 - accuracy: 0.9112 - val_loss: 0.9085 - val_accuracy: 0.8090\n",
            "Epoch 8/20\n",
            "7982/7982 [==============================] - 1s 118us/step - loss: 0.3456 - accuracy: 0.9291 - val_loss: 0.9583 - val_accuracy: 0.8040\n",
            "Epoch 9/20\n",
            "7982/7982 [==============================] - 1s 117us/step - loss: 0.2878 - accuracy: 0.9386 - val_loss: 0.8969 - val_accuracy: 0.8160\n",
            "Epoch 10/20\n",
            "7982/7982 [==============================] - 1s 115us/step - loss: 0.2429 - accuracy: 0.9458 - val_loss: 0.8937 - val_accuracy: 0.8190\n",
            "Epoch 11/20\n",
            "7982/7982 [==============================] - 1s 116us/step - loss: 0.2100 - accuracy: 0.9488 - val_loss: 0.9306 - val_accuracy: 0.8240\n",
            "Epoch 12/20\n",
            "7982/7982 [==============================] - 1s 116us/step - loss: 0.1861 - accuracy: 0.9526 - val_loss: 0.9326 - val_accuracy: 0.8180\n",
            "Epoch 13/20\n",
            "7982/7982 [==============================] - 1s 117us/step - loss: 0.1666 - accuracy: 0.9526 - val_loss: 0.9635 - val_accuracy: 0.8100\n",
            "Epoch 14/20\n",
            "7982/7982 [==============================] - 1s 115us/step - loss: 0.1546 - accuracy: 0.9526 - val_loss: 0.9848 - val_accuracy: 0.8040\n",
            "Epoch 15/20\n",
            "7982/7982 [==============================] - 1s 118us/step - loss: 0.1395 - accuracy: 0.9554 - val_loss: 1.0118 - val_accuracy: 0.8120\n",
            "Epoch 16/20\n",
            "7982/7982 [==============================] - 1s 117us/step - loss: 0.1325 - accuracy: 0.9565 - val_loss: 1.0150 - val_accuracy: 0.8070\n",
            "Epoch 17/20\n",
            "7982/7982 [==============================] - 1s 116us/step - loss: 0.1286 - accuracy: 0.9563 - val_loss: 1.0868 - val_accuracy: 0.7940\n",
            "Epoch 18/20\n",
            "7982/7982 [==============================] - 1s 116us/step - loss: 0.1210 - accuracy: 0.9559 - val_loss: 1.0295 - val_accuracy: 0.8050\n",
            "Epoch 19/20\n",
            "7982/7982 [==============================] - 1s 119us/step - loss: 0.1175 - accuracy: 0.9558 - val_loss: 1.0546 - val_accuracy: 0.8040\n",
            "Epoch 20/20\n",
            "7982/7982 [==============================] - 1s 115us/step - loss: 0.1140 - accuracy: 0.9570 - val_loss: 1.0526 - val_accuracy: 0.8170\n"
          ],
          "name": "stdout"
        }
      ]
    },
    {
      "cell_type": "code",
      "metadata": {
        "id": "IB3D9EtqrGjR",
        "colab_type": "code",
        "colab": {
          "base_uri": "https://localhost:8080/",
          "height": 34
        },
        "outputId": "d69e0d0b-9d51-4614-9fb7-0da314c9a305"
      },
      "source": [
        "history.history.keys()"
      ],
      "execution_count": 23,
      "outputs": [
        {
          "output_type": "execute_result",
          "data": {
            "text/plain": [
              "dict_keys(['val_loss', 'val_accuracy', 'loss', 'accuracy'])"
            ]
          },
          "metadata": {
            "tags": []
          },
          "execution_count": 23
        }
      ]
    },
    {
      "cell_type": "code",
      "metadata": {
        "id": "1Dw66ba8qah7",
        "colab_type": "code",
        "colab": {
          "base_uri": "https://localhost:8080/",
          "height": 295
        },
        "outputId": "6ca5a4ec-93e1-427c-ac4b-6c9fd1984a55"
      },
      "source": [
        "# plot loss\n",
        "import matplotlib.pyplot as plt\n",
        "loss = history.history['loss']\n",
        "val_loss = history.history['val_loss']\n",
        "epochs = range(1, len(loss) + 1)\n",
        "plt.plot(epochs, loss, 'bo', label='Training loss')\n",
        "plt.plot(epochs, val_loss, 'b', label='Validation loss')\n",
        "plt.title('Training and validation loss')\n",
        "plt.xlabel('Epochs')\n",
        "plt.ylabel('Loss')\n",
        "plt.legend()\n",
        "plt.show()"
      ],
      "execution_count": 19,
      "outputs": [
        {
          "output_type": "display_data",
          "data": {
            "image/png": "[encoded data removed]",
            "text/plain": [
              "<Figure size 432x288 with 1 Axes>"
            ]
          },
          "metadata": {
            "tags": [],
            "needs_background": "light"
          }
        }
      ]
    },
    {
      "cell_type": "code",
      "metadata": {
        "id": "PmViEjzGqf-Y",
        "colab_type": "code",
        "colab": {
          "base_uri": "https://localhost:8080/",
          "height": 295
        },
        "outputId": "515c5f34-33b8-475f-cb40-ace9fa2b78a4"
      },
      "source": [
        "# plot accuracy\n",
        "plt.clf()\n",
        "acc = history.history['accuracy']\n",
        "val_acc = history.history['val_accuracy']\n",
        "plt.plot(epochs, acc, 'bo', label='Training acc')\n",
        "plt.plot(epochs, val_acc, 'b', label='Validation acc')\n",
        "plt.title('Training and validation accuracy')\n",
        "plt.xlabel('Epochs')\n",
        "plt.ylabel('Loss')\n",
        "plt.legend()\n",
        "plt.show()"
      ],
      "execution_count": 24,
      "outputs": [
        {
          "output_type": "display_data",
          "data": {
            "image/png": "[encoded data removed]",
            "text/plain": [
              "<Figure size 432x288 with 1 Axes>"
            ]
          },
          "metadata": {
            "tags": [],
            "needs_background": "light"
          }
        }
      ]
    },
    {
      "cell_type": "code",
      "metadata": {
        "id": "uokSV51Vq-W8",
        "colab_type": "code",
        "colab": {
          "base_uri": "https://localhost:8080/",
          "height": 357
        },
        "outputId": "ee9e9c7c-3e28-4859-9791-3d7f81ec7056"
      },
      "source": [
        "# retrain the model with 9 epoach since it starts to overfitting after 9 epoach\n",
        "model = models.Sequential()\n",
        "model.add(layers.Dense(64, activation='relu', input_shape=(10000,)))\n",
        "model.add(layers.Dense(64, activation='relu'))\n",
        "model.add(layers.Dense(46, activation='softmax'))\n",
        "model.compile(optimizer='rmsprop',\n",
        "loss='categorical_crossentropy',\n",
        "metrics=['accuracy'])\n",
        "model.fit(partial_x_train,\n",
        "partial_y_train,\n",
        "epochs=9,\n",
        "batch_size=512,\n",
        "validation_data=(x_val, y_val))\n",
        "results = model.evaluate(x_test, one_hot_test_labels)"
      ],
      "execution_count": 25,
      "outputs": [
        {
          "output_type": "stream",
          "text": [
            "Train on 7982 samples, validate on 1000 samples\n",
            "Epoch 1/9\n",
            "7982/7982 [==============================] - 1s 127us/step - loss: 2.6181 - accuracy: 0.4796 - val_loss: 1.7664 - val_accuracy: 0.6280\n",
            "Epoch 2/9\n",
            "7982/7982 [==============================] - 1s 117us/step - loss: 1.4300 - accuracy: 0.7070 - val_loss: 1.3045 - val_accuracy: 0.7360\n",
            "Epoch 3/9\n",
            "7982/7982 [==============================] - 1s 115us/step - loss: 1.0381 - accuracy: 0.7878 - val_loss: 1.1179 - val_accuracy: 0.7700\n",
            "Epoch 4/9\n",
            "7982/7982 [==============================] - 1s 116us/step - loss: 0.8053 - accuracy: 0.8327 - val_loss: 1.0313 - val_accuracy: 0.7920\n",
            "Epoch 5/9\n",
            "7982/7982 [==============================] - 1s 115us/step - loss: 0.6436 - accuracy: 0.8614 - val_loss: 0.9622 - val_accuracy: 0.8040\n",
            "Epoch 6/9\n",
            "7982/7982 [==============================] - 1s 117us/step - loss: 0.5085 - accuracy: 0.8921 - val_loss: 0.9565 - val_accuracy: 0.8100\n",
            "Epoch 7/9\n",
            "7982/7982 [==============================] - 1s 117us/step - loss: 0.4112 - accuracy: 0.9142 - val_loss: 0.8953 - val_accuracy: 0.8160\n",
            "Epoch 8/9\n",
            "7982/7982 [==============================] - 1s 120us/step - loss: 0.3338 - accuracy: 0.9273 - val_loss: 0.9060 - val_accuracy: 0.8100\n",
            "Epoch 9/9\n",
            "7982/7982 [==============================] - 1s 115us/step - loss: 0.2758 - accuracy: 0.9396 - val_loss: 0.9704 - val_accuracy: 0.8030\n",
            "2246/2246 [==============================] - 0s 87us/step\n"
          ],
          "name": "stdout"
        }
      ]
    },
    {
      "cell_type": "code",
      "metadata": {
        "id": "PsZstr3Ar5C2",
        "colab_type": "code",
        "colab": {
          "base_uri": "https://localhost:8080/",
          "height": 34
        },
        "outputId": "36c50885-b9eb-4240-cf0b-c39e1b91cf9b"
      },
      "source": [
        "results  # 77.5% accuracy"
      ],
      "execution_count": 26,
      "outputs": [
        {
          "output_type": "execute_result",
          "data": {
            "text/plain": [
              "[1.0322708894605628, 0.7751558423042297]"
            ]
          },
          "metadata": {
            "tags": []
          },
          "execution_count": 26
        }
      ]
    },
    {
      "cell_type": "code",
      "metadata": {
        "id": "IHOm1aXAsCHm",
        "colab_type": "code",
        "colab": {
          "base_uri": "https://localhost:8080/",
          "height": 34
        },
        "outputId": "14bd0c63-10d3-45ff-e6a1-57f9cfd7d461"
      },
      "source": [
        "# build a random classifier and check the benchmark accuracy\n",
        "import copy\n",
        "test_labels_copy = copy.copy(test_labels)\n",
        "np.random.shuffle(test_labels_copy)\n",
        "hits_array = np.array(test_labels) == np.array(test_labels_copy)\n",
        "float(np.sum(hits_array)) / len(test_labels)"
      ],
      "execution_count": 27,
      "outputs": [
        {
          "output_type": "execute_result",
          "data": {
            "text/plain": [
              "0.19278717720391808"
            ]
          },
          "metadata": {
            "tags": []
          },
          "execution_count": 27
        }
      ]
    },
    {
      "cell_type": "code",
      "metadata": {
        "id": "zqpj0q6gshdP",
        "colab_type": "code",
        "colab": {
          "base_uri": "https://localhost:8080/",
          "height": 34
        },
        "outputId": "202f4766-3a09-433a-f894-7f6e5bd04612"
      },
      "source": [
        "y_train = np.array(train_labels)\n",
        "y_train"
      ],
      "execution_count": 29,
      "outputs": [
        {
          "output_type": "execute_result",
          "data": {
            "text/plain": [
              "array([ 3,  4,  3, ..., 25,  3, 25])"
            ]
          },
          "metadata": {
            "tags": []
          },
          "execution_count": 29
        }
      ]
    },
    {
      "cell_type": "code",
      "metadata": {
        "id": "29E1GzD7s7DA",
        "colab_type": "code",
        "colab": {}
      },
      "source": [
        "# if the labels are encoded as integers, the loss function should be sparse_categorical_crossentropy.\n",
        "model.compile(optimizer='rmsprop',\n",
        "            loss='sparse_categorical_crossentropy',\n",
        "            metrics=['acc'])"
      ],
      "execution_count": 0,
      "outputs": []
    },
    {
      "cell_type": "markdown",
      "metadata": {
        "id": "VOtZbYNVtnk4",
        "colab_type": "text"
      },
      "source": [
        "A model with a bottleneck layer with only 4 hidden units"
      ]
    },
    {
      "cell_type": "code",
      "metadata": {
        "id": "xCNTa10Sthwc",
        "colab_type": "code",
        "colab": {
          "base_uri": "https://localhost:8080/",
          "height": 731
        },
        "outputId": "b18b7613-5612-42ca-d5f1-d722c505cec8"
      },
      "source": [
        "model = models.Sequential()\n",
        "model.add(layers.Dense(64, activation='relu', input_shape=(10000,)))\n",
        "model.add(layers.Dense(4, activation='relu'))\n",
        "model.add(layers.Dense(46, activation='softmax'))\n",
        "model.compile(optimizer='rmsprop',\n",
        "loss='categorical_crossentropy',\n",
        "metrics=['accuracy'])\n",
        "model.fit(partial_x_train,\n",
        "        partial_y_train,\n",
        "        epochs=20,\n",
        "        batch_size=128,\n",
        "        validation_data=(x_val, y_val))"
      ],
      "execution_count": 30,
      "outputs": [
        {
          "output_type": "stream",
          "text": [
            "Train on 7982 samples, validate on 1000 samples\n",
            "Epoch 1/20\n",
            "7982/7982 [==============================] - 1s 161us/step - loss: 3.0404 - accuracy: 0.2135 - val_loss: 2.5593 - val_accuracy: 0.2450\n",
            "Epoch 2/20\n",
            "7982/7982 [==============================] - 1s 158us/step - loss: 2.0448 - accuracy: 0.3534 - val_loss: 1.6805 - val_accuracy: 0.6370\n",
            "Epoch 3/20\n",
            "7982/7982 [==============================] - 1s 157us/step - loss: 1.3614 - accuracy: 0.6914 - val_loss: 1.4103 - val_accuracy: 0.6860\n",
            "Epoch 4/20\n",
            "7982/7982 [==============================] - 1s 158us/step - loss: 1.1439 - accuracy: 0.7268 - val_loss: 1.3522 - val_accuracy: 0.6880\n",
            "Epoch 5/20\n",
            "7982/7982 [==============================] - 1s 154us/step - loss: 1.0142 - accuracy: 0.7476 - val_loss: 1.3007 - val_accuracy: 0.6950\n",
            "Epoch 6/20\n",
            "7982/7982 [==============================] - 1s 155us/step - loss: 0.9174 - accuracy: 0.7680 - val_loss: 1.2845 - val_accuracy: 0.7040\n",
            "Epoch 7/20\n",
            "7982/7982 [==============================] - 1s 162us/step - loss: 0.8375 - accuracy: 0.7834 - val_loss: 1.2907 - val_accuracy: 0.7080\n",
            "Epoch 8/20\n",
            "7982/7982 [==============================] - 1s 158us/step - loss: 0.7723 - accuracy: 0.7979 - val_loss: 1.3099 - val_accuracy: 0.7050\n",
            "Epoch 9/20\n",
            "7982/7982 [==============================] - 1s 157us/step - loss: 0.7177 - accuracy: 0.8079 - val_loss: 1.3343 - val_accuracy: 0.7050\n",
            "Epoch 10/20\n",
            "7982/7982 [==============================] - 1s 159us/step - loss: 0.6721 - accuracy: 0.8215 - val_loss: 1.3745 - val_accuracy: 0.7070\n",
            "Epoch 11/20\n",
            "7982/7982 [==============================] - 1s 159us/step - loss: 0.6314 - accuracy: 0.8289 - val_loss: 1.4013 - val_accuracy: 0.7070\n",
            "Epoch 12/20\n",
            "7982/7982 [==============================] - 1s 160us/step - loss: 0.5985 - accuracy: 0.8354 - val_loss: 1.4151 - val_accuracy: 0.7050\n",
            "Epoch 13/20\n",
            "7982/7982 [==============================] - 1s 159us/step - loss: 0.5673 - accuracy: 0.8435 - val_loss: 1.5025 - val_accuracy: 0.7090\n",
            "Epoch 14/20\n",
            "7982/7982 [==============================] - 1s 159us/step - loss: 0.5400 - accuracy: 0.8465 - val_loss: 1.5273 - val_accuracy: 0.7080\n",
            "Epoch 15/20\n",
            "7982/7982 [==============================] - 1s 157us/step - loss: 0.5185 - accuracy: 0.8519 - val_loss: 1.5605 - val_accuracy: 0.7110\n",
            "Epoch 16/20\n",
            "7982/7982 [==============================] - 1s 161us/step - loss: 0.4970 - accuracy: 0.8624 - val_loss: 1.6607 - val_accuracy: 0.7050\n",
            "Epoch 17/20\n",
            "7982/7982 [==============================] - 1s 158us/step - loss: 0.4787 - accuracy: 0.8659 - val_loss: 1.6960 - val_accuracy: 0.7110\n",
            "Epoch 18/20\n",
            "7982/7982 [==============================] - 1s 158us/step - loss: 0.4608 - accuracy: 0.8695 - val_loss: 1.7055 - val_accuracy: 0.7110\n",
            "Epoch 19/20\n",
            "7982/7982 [==============================] - 1s 160us/step - loss: 0.4452 - accuracy: 0.8725 - val_loss: 1.8524 - val_accuracy: 0.7030\n",
            "Epoch 20/20\n",
            "7982/7982 [==============================] - 1s 159us/step - loss: 0.4293 - accuracy: 0.8751 - val_loss: 1.9414 - val_accuracy: 0.7000\n"
          ],
          "name": "stdout"
        },
        {
          "output_type": "execute_result",
          "data": {
            "text/plain": [
              "<keras.callbacks.callbacks.History at 0x7fd8738c0470>"
            ]
          },
          "metadata": {
            "tags": []
          },
          "execution_count": 30
        }
      ]
    },
    {
      "cell_type": "markdown",
      "metadata": {
        "id": "Ymllm9hQuHpk",
        "colab_type": "text"
      },
      "source": [
        "Experiment with a larger hidden layer"
      ]
    },
    {
      "cell_type": "code",
      "metadata": {
        "id": "NldBZqFcuHJB",
        "colab_type": "code",
        "colab": {
          "base_uri": "https://localhost:8080/",
          "height": 731
        },
        "outputId": "2229df5a-b855-4ce9-db24-da5857229ba5"
      },
      "source": [
        "model = models.Sequential()\n",
        "model.add(layers.Dense(128, activation='relu', input_shape=(10000,)))\n",
        "model.add(layers.Dense(128, activation='relu'))\n",
        "model.add(layers.Dense(46, activation='softmax'))\n",
        "model.compile(optimizer='rmsprop',\n",
        "loss='categorical_crossentropy',\n",
        "metrics=['accuracy'])\n",
        "model.fit(partial_x_train,\n",
        "        partial_y_train,\n",
        "        epochs=20,\n",
        "        batch_size=128,\n",
        "        validation_data=(x_val, y_val))"
      ],
      "execution_count": 31,
      "outputs": [
        {
          "output_type": "stream",
          "text": [
            "Train on 7982 samples, validate on 1000 samples\n",
            "Epoch 1/20\n",
            "7982/7982 [==============================] - 2s 249us/step - loss: 1.5605 - accuracy: 0.6720 - val_loss: 1.1070 - val_accuracy: 0.7650\n",
            "Epoch 2/20\n",
            "7982/7982 [==============================] - 2s 240us/step - loss: 0.7688 - accuracy: 0.8284 - val_loss: 0.9350 - val_accuracy: 0.8070\n",
            "Epoch 3/20\n",
            "7982/7982 [==============================] - 2s 237us/step - loss: 0.4622 - accuracy: 0.9017 - val_loss: 0.8725 - val_accuracy: 0.8130\n",
            "Epoch 4/20\n",
            "7982/7982 [==============================] - 2s 237us/step - loss: 0.3096 - accuracy: 0.9322 - val_loss: 0.8978 - val_accuracy: 0.8100\n",
            "Epoch 5/20\n",
            "7982/7982 [==============================] - 2s 239us/step - loss: 0.2260 - accuracy: 0.9464 - val_loss: 0.8925 - val_accuracy: 0.8300\n",
            "Epoch 6/20\n",
            "7982/7982 [==============================] - 2s 237us/step - loss: 0.1902 - accuracy: 0.9526 - val_loss: 0.9418 - val_accuracy: 0.8200\n",
            "Epoch 7/20\n",
            "7982/7982 [==============================] - 2s 240us/step - loss: 0.1680 - accuracy: 0.9523 - val_loss: 0.9549 - val_accuracy: 0.8190\n",
            "Epoch 8/20\n",
            "7982/7982 [==============================] - 2s 238us/step - loss: 0.1500 - accuracy: 0.9518 - val_loss: 1.0358 - val_accuracy: 0.8050\n",
            "Epoch 9/20\n",
            "7982/7982 [==============================] - 2s 240us/step - loss: 0.1407 - accuracy: 0.9548 - val_loss: 1.0357 - val_accuracy: 0.8090\n",
            "Epoch 10/20\n",
            "7982/7982 [==============================] - 2s 238us/step - loss: 0.1317 - accuracy: 0.9543 - val_loss: 1.0801 - val_accuracy: 0.8090\n",
            "Epoch 11/20\n",
            "7982/7982 [==============================] - 2s 238us/step - loss: 0.1212 - accuracy: 0.9553 - val_loss: 1.1387 - val_accuracy: 0.8040\n",
            "Epoch 12/20\n",
            "7982/7982 [==============================] - 2s 241us/step - loss: 0.1155 - accuracy: 0.9560 - val_loss: 1.1601 - val_accuracy: 0.8000\n",
            "Epoch 13/20\n",
            "7982/7982 [==============================] - 2s 239us/step - loss: 0.1082 - accuracy: 0.9557 - val_loss: 1.1718 - val_accuracy: 0.8090\n",
            "Epoch 14/20\n",
            "7982/7982 [==============================] - 2s 238us/step - loss: 0.1048 - accuracy: 0.9558 - val_loss: 1.2668 - val_accuracy: 0.7860\n",
            "Epoch 15/20\n",
            "7982/7982 [==============================] - 2s 242us/step - loss: 0.1027 - accuracy: 0.9559 - val_loss: 1.3144 - val_accuracy: 0.7990\n",
            "Epoch 16/20\n",
            "7982/7982 [==============================] - 2s 240us/step - loss: 0.0953 - accuracy: 0.9570 - val_loss: 1.4122 - val_accuracy: 0.7920\n",
            "Epoch 17/20\n",
            "7982/7982 [==============================] - 2s 240us/step - loss: 0.0918 - accuracy: 0.9568 - val_loss: 1.4045 - val_accuracy: 0.8010\n",
            "Epoch 18/20\n",
            "7982/7982 [==============================] - 2s 239us/step - loss: 0.0892 - accuracy: 0.9573 - val_loss: 1.4762 - val_accuracy: 0.7990\n",
            "Epoch 19/20\n",
            "7982/7982 [==============================] - 2s 238us/step - loss: 0.0854 - accuracy: 0.9572 - val_loss: 1.6089 - val_accuracy: 0.7920\n",
            "Epoch 20/20\n",
            "7982/7982 [==============================] - 2s 236us/step - loss: 0.0860 - accuracy: 0.9559 - val_loss: 1.6126 - val_accuracy: 0.7880\n"
          ],
          "name": "stdout"
        },
        {
          "output_type": "execute_result",
          "data": {
            "text/plain": [
              "<keras.callbacks.callbacks.History at 0x7fd873f9cf98>"
            ]
          },
          "metadata": {
            "tags": []
          },
          "execution_count": 31
        }
      ]
    },
    {
      "cell_type": "markdown",
      "metadata": {
        "id": "R2KBj0hIua3J",
        "colab_type": "text"
      },
      "source": [
        "Experiment a network with more layers"
      ]
    },
    {
      "cell_type": "code",
      "metadata": {
        "id": "LJAD83pWtsZm",
        "colab_type": "code",
        "colab": {
          "base_uri": "https://localhost:8080/",
          "height": 731
        },
        "outputId": "764f0852-fb85-4252-c346-346504617f21"
      },
      "source": [
        "model = models.Sequential()\n",
        "model.add(layers.Dense(64, activation='relu', input_shape=(10000,)))\n",
        "model.add(layers.Dense(64, activation='relu'))\n",
        "model.add(layers.Dense(64, activation='relu'))\n",
        "model.add(layers.Dense(46, activation='softmax'))\n",
        "model.compile(optimizer='rmsprop',\n",
        "loss='categorical_crossentropy',\n",
        "metrics=['accuracy'])\n",
        "model.fit(partial_x_train,\n",
        "        partial_y_train,\n",
        "        epochs=20,\n",
        "        batch_size=128,\n",
        "        validation_data=(x_val, y_val))"
      ],
      "execution_count": 32,
      "outputs": [
        {
          "output_type": "stream",
          "text": [
            "Train on 7982 samples, validate on 1000 samples\n",
            "Epoch 1/20\n",
            "7982/7982 [==============================] - 1s 168us/step - loss: 1.8588 - accuracy: 0.6143 - val_loss: 1.2610 - val_accuracy: 0.6900\n",
            "Epoch 2/20\n",
            "7982/7982 [==============================] - 1s 157us/step - loss: 0.9919 - accuracy: 0.7722 - val_loss: 1.0685 - val_accuracy: 0.7790\n",
            "Epoch 3/20\n",
            "7982/7982 [==============================] - 1s 158us/step - loss: 0.6751 - accuracy: 0.8474 - val_loss: 0.9764 - val_accuracy: 0.7920\n",
            "Epoch 4/20\n",
            "7982/7982 [==============================] - 1s 159us/step - loss: 0.4592 - accuracy: 0.8978 - val_loss: 1.0563 - val_accuracy: 0.7990\n",
            "Epoch 5/20\n",
            "7982/7982 [==============================] - 1s 157us/step - loss: 0.3339 - accuracy: 0.9271 - val_loss: 1.1133 - val_accuracy: 0.7750\n",
            "Epoch 6/20\n",
            "7982/7982 [==============================] - 1s 158us/step - loss: 0.2666 - accuracy: 0.9400 - val_loss: 1.1732 - val_accuracy: 0.7770\n",
            "Epoch 7/20\n",
            "7982/7982 [==============================] - 1s 161us/step - loss: 0.2129 - accuracy: 0.9476 - val_loss: 1.0464 - val_accuracy: 0.8070\n",
            "Epoch 8/20\n",
            "7982/7982 [==============================] - 1s 159us/step - loss: 0.1899 - accuracy: 0.9518 - val_loss: 1.0995 - val_accuracy: 0.7940\n",
            "Epoch 9/20\n",
            "7982/7982 [==============================] - 1s 157us/step - loss: 0.1725 - accuracy: 0.9524 - val_loss: 1.1806 - val_accuracy: 0.7950\n",
            "Epoch 10/20\n",
            "7982/7982 [==============================] - 1s 157us/step - loss: 0.1596 - accuracy: 0.9541 - val_loss: 1.1597 - val_accuracy: 0.7890\n",
            "Epoch 11/20\n",
            "7982/7982 [==============================] - 1s 156us/step - loss: 0.1478 - accuracy: 0.9563 - val_loss: 1.2724 - val_accuracy: 0.7820\n",
            "Epoch 12/20\n",
            "7982/7982 [==============================] - 1s 161us/step - loss: 0.1416 - accuracy: 0.9551 - val_loss: 1.2522 - val_accuracy: 0.7940\n",
            "Epoch 13/20\n",
            "7982/7982 [==============================] - 1s 159us/step - loss: 0.1309 - accuracy: 0.9559 - val_loss: 1.3079 - val_accuracy: 0.7930\n",
            "Epoch 14/20\n",
            "7982/7982 [==============================] - 1s 156us/step - loss: 0.1262 - accuracy: 0.9558 - val_loss: 1.2332 - val_accuracy: 0.7990\n",
            "Epoch 15/20\n",
            "7982/7982 [==============================] - 1s 161us/step - loss: 0.1248 - accuracy: 0.9573 - val_loss: 1.2632 - val_accuracy: 0.7890\n",
            "Epoch 16/20\n",
            "7982/7982 [==============================] - 1s 158us/step - loss: 0.1178 - accuracy: 0.9565 - val_loss: 1.2894 - val_accuracy: 0.7790\n",
            "Epoch 17/20\n",
            "7982/7982 [==============================] - 1s 159us/step - loss: 0.1127 - accuracy: 0.9565 - val_loss: 1.4613 - val_accuracy: 0.7860\n",
            "Epoch 18/20\n",
            "7982/7982 [==============================] - 1s 160us/step - loss: 0.1117 - accuracy: 0.9559 - val_loss: 1.3898 - val_accuracy: 0.7790\n",
            "Epoch 19/20\n",
            "7982/7982 [==============================] - 1s 160us/step - loss: 0.1066 - accuracy: 0.9570 - val_loss: 1.2782 - val_accuracy: 0.7890\n",
            "Epoch 20/20\n",
            "7982/7982 [==============================] - 1s 160us/step - loss: 0.1020 - accuracy: 0.9573 - val_loss: 1.4609 - val_accuracy: 0.7900\n"
          ],
          "name": "stdout"
        },
        {
          "output_type": "execute_result",
          "data": {
            "text/plain": [
              "<keras.callbacks.callbacks.History at 0x7fd87378d358>"
            ]
          },
          "metadata": {
            "tags": []
          },
          "execution_count": 32
        }
      ]
    },
    {
      "cell_type": "code",
      "metadata": {
        "id": "dB5fL8I0ukHb",
        "colab_type": "code",
        "colab": {
          "base_uri": "https://localhost:8080/",
          "height": 731
        },
        "outputId": "2b36b050-85cd-4488-822f-8d008fffe22b"
      },
      "source": [
        "model = models.Sequential()\n",
        "model.add(layers.Dense(64, activation='relu', input_shape=(10000,)))\n",
        "model.add(layers.Dense(46, activation='softmax'))\n",
        "model.compile(optimizer='rmsprop',\n",
        "loss='categorical_crossentropy',\n",
        "metrics=['accuracy'])\n",
        "model.fit(partial_x_train,\n",
        "        partial_y_train,\n",
        "        epochs=20,\n",
        "        batch_size=128,\n",
        "        validation_data=(x_val, y_val))"
      ],
      "execution_count": 33,
      "outputs": [
        {
          "output_type": "stream",
          "text": [
            "Train on 7982 samples, validate on 1000 samples\n",
            "Epoch 1/20\n",
            "7982/7982 [==============================] - 1s 160us/step - loss: 1.8692 - accuracy: 0.6446 - val_loss: 1.2045 - val_accuracy: 0.7230\n",
            "Epoch 2/20\n",
            "7982/7982 [==============================] - 1s 157us/step - loss: 0.9393 - accuracy: 0.7992 - val_loss: 0.9613 - val_accuracy: 0.8100\n",
            "Epoch 3/20\n",
            "7982/7982 [==============================] - 1s 151us/step - loss: 0.6411 - accuracy: 0.8667 - val_loss: 0.8678 - val_accuracy: 0.8140\n",
            "Epoch 4/20\n",
            "7982/7982 [==============================] - 1s 156us/step - loss: 0.4605 - accuracy: 0.9023 - val_loss: 0.8159 - val_accuracy: 0.8290\n",
            "Epoch 5/20\n",
            "7982/7982 [==============================] - 1s 158us/step - loss: 0.3433 - accuracy: 0.9247 - val_loss: 0.8229 - val_accuracy: 0.8350\n",
            "Epoch 6/20\n",
            "7982/7982 [==============================] - 1s 154us/step - loss: 0.2703 - accuracy: 0.9394 - val_loss: 0.8186 - val_accuracy: 0.8290\n",
            "Epoch 7/20\n",
            "7982/7982 [==============================] - 1s 154us/step - loss: 0.2196 - accuracy: 0.9469 - val_loss: 0.8299 - val_accuracy: 0.8300\n",
            "Epoch 8/20\n",
            "7982/7982 [==============================] - 1s 155us/step - loss: 0.1857 - accuracy: 0.9506 - val_loss: 0.8732 - val_accuracy: 0.8220\n",
            "Epoch 9/20\n",
            "7982/7982 [==============================] - 1s 154us/step - loss: 0.1658 - accuracy: 0.9543 - val_loss: 0.8795 - val_accuracy: 0.8250\n",
            "Epoch 10/20\n",
            "7982/7982 [==============================] - 1s 158us/step - loss: 0.1493 - accuracy: 0.9541 - val_loss: 0.9415 - val_accuracy: 0.8110\n",
            "Epoch 11/20\n",
            "7982/7982 [==============================] - 1s 157us/step - loss: 0.1376 - accuracy: 0.9564 - val_loss: 0.9544 - val_accuracy: 0.8130\n",
            "Epoch 12/20\n",
            "7982/7982 [==============================] - 1s 153us/step - loss: 0.1312 - accuracy: 0.9568 - val_loss: 0.9817 - val_accuracy: 0.8110\n",
            "Epoch 13/20\n",
            "7982/7982 [==============================] - 1s 156us/step - loss: 0.1218 - accuracy: 0.9568 - val_loss: 0.9768 - val_accuracy: 0.8100\n",
            "Epoch 14/20\n",
            "7982/7982 [==============================] - 1s 156us/step - loss: 0.1183 - accuracy: 0.9567 - val_loss: 1.0490 - val_accuracy: 0.8030\n",
            "Epoch 15/20\n",
            "7982/7982 [==============================] - 1s 155us/step - loss: 0.1147 - accuracy: 0.9583 - val_loss: 1.0716 - val_accuracy: 0.8080\n",
            "Epoch 16/20\n",
            "7982/7982 [==============================] - 1s 154us/step - loss: 0.1102 - accuracy: 0.9565 - val_loss: 1.1022 - val_accuracy: 0.7970\n",
            "Epoch 17/20\n",
            "7982/7982 [==============================] - 1s 155us/step - loss: 0.1082 - accuracy: 0.9565 - val_loss: 1.1191 - val_accuracy: 0.8040\n",
            "Epoch 18/20\n",
            "7982/7982 [==============================] - 1s 156us/step - loss: 0.1063 - accuracy: 0.9578 - val_loss: 1.1423 - val_accuracy: 0.8020\n",
            "Epoch 19/20\n",
            "7982/7982 [==============================] - 1s 158us/step - loss: 0.1065 - accuracy: 0.9585 - val_loss: 1.1117 - val_accuracy: 0.8000\n",
            "Epoch 20/20\n",
            "7982/7982 [==============================] - 1s 152us/step - loss: 0.1027 - accuracy: 0.9559 - val_loss: 1.1802 - val_accuracy: 0.8030\n"
          ],
          "name": "stdout"
        },
        {
          "output_type": "execute_result",
          "data": {
            "text/plain": [
              "<keras.callbacks.callbacks.History at 0x7fd873a98780>"
            ]
          },
          "metadata": {
            "tags": []
          },
          "execution_count": 33
        }
      ]
    },
    {
      "cell_type": "code",
      "metadata": {
        "id": "tHdoapjPuvjd",
        "colab_type": "code",
        "colab": {}
      },
      "source": [
        ""
      ],
      "execution_count": 0,
      "outputs": []
    }
  ]
}