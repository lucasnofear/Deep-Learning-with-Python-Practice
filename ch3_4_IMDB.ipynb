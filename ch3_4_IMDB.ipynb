{
  "nbformat": 4,
  "nbformat_minor": 0,
  "metadata": {
    "colab": {
      "name": "ch3.4_IMDB.ipynb",
      "provenance": [],
      "authorship_tag": "ABX9TyMUhr1ydYiB9G/MsQbvi+SB",
      "include_colab_link": true
    },
    "kernelspec": {
      "name": "python3",
      "display_name": "Python 3"
    }
  },
  "cells": [
    {
      "cell_type": "markdown",
      "metadata": {
        "id": "view-in-github",
        "colab_type": "text"
      },
      "source": [
        "<a href=\"https://colab.research.google.com/github/lucasnofear/Deep-Learning-with-Python-Practice/blob/Keras-and-Tensorflow/ch3_4_IMDB.ipynb\" target=\"_parent\"><img src=\"https://colab.research.google.com/assets/colab-badge.svg\" alt=\"Open In Colab\"/></a>"
      ]
    },
    {
      "cell_type": "code",
      "metadata": {
        "id": "z4BAO3rg5M2V",
        "colab_type": "code",
        "colab": {
          "base_uri": "https://localhost:8080/",
          "height": 34
        },
        "outputId": "d3b945a4-6933-449a-d351-a37b98a4b3c5"
      },
      "source": [
        "from keras.datasets import imdb"
      ],
      "execution_count": 1,
      "outputs": [
        {
          "output_type": "stream",
          "text": [
            "Using TensorFlow backend.\n"
          ],
          "name": "stderr"
        }
      ]
    },
    {
      "cell_type": "code",
      "metadata": {
        "id": "bVct7_wf5Sn3",
        "colab_type": "code",
        "colab": {
          "base_uri": "https://localhost:8080/",
          "height": 51
        },
        "outputId": "fdc5f62a-c1a8-4088-973b-446adb441686"
      },
      "source": [
        "(train_data,train_labels),(test_data,test_labels) = imdb.load_data(num_words=10000)"
      ],
      "execution_count": 2,
      "outputs": [
        {
          "output_type": "stream",
          "text": [
            "Downloading data from https://s3.amazonaws.com/text-datasets/imdb.npz\n",
            "17465344/17464789 [==============================] - 2s 0us/step\n"
          ],
          "name": "stdout"
        }
      ]
    },
    {
      "cell_type": "code",
      "metadata": {
        "id": "OukZW34T5d7S",
        "colab_type": "code",
        "colab": {}
      },
      "source": [
        "train_data[0],train_labels[0]"
      ],
      "execution_count": 0,
      "outputs": []
    },
    {
      "cell_type": "markdown",
      "metadata": {
        "id": "NSclY-005__v",
        "colab_type": "text"
      },
      "source": [
        "Decode one of the review back to English\n"
      ]
    },
    {
      "cell_type": "code",
      "metadata": {
        "id": "nB7NbAlX5vUT",
        "colab_type": "code",
        "colab": {
          "base_uri": "https://localhost:8080/",
          "height": 51
        },
        "outputId": "e36d57de-11fe-4ba0-a802-89dda932bddc"
      },
      "source": [
        "word_index = imdb.get_word_index()\n",
        "reverse_word_index = dict([(value,key) for (key,value) in word_index.items()])\n",
        "decoded_review = ' '.join([reverse_word_index.get(i-3,'?') for i in train_data[0]])"
      ],
      "execution_count": 5,
      "outputs": [
        {
          "output_type": "stream",
          "text": [
            "Downloading data from https://s3.amazonaws.com/text-datasets/imdb_word_index.json\n",
            "1646592/1641221 [==============================] - 1s 1us/step\n"
          ],
          "name": "stdout"
        }
      ]
    },
    {
      "cell_type": "code",
      "metadata": {
        "id": "Gxk7ubjp6cAz",
        "colab_type": "code",
        "colab": {
          "base_uri": "https://localhost:8080/",
          "height": 54
        },
        "outputId": "cb694f90-5974-40f7-e5b3-f329e9d5cd6e"
      },
      "source": [
        "decoded_review"
      ],
      "execution_count": 6,
      "outputs": [
        {
          "output_type": "execute_result",
          "data": {
            "text/plain": [
              "\"? this film was just brilliant casting location scenery story direction everyone's really suited the part they played and you could just imagine being there robert ? is an amazing actor and now the same being director ? father came from the same scottish island as myself so i loved the fact there was a real connection with this film the witty remarks throughout the film were great it was just brilliant so much that i bought the film as soon as it was released for ? and would recommend it to everyone to watch and the fly fishing was amazing really cried at the end it was so sad and you know what they say if you cry at a film it must have been good and this definitely was also ? to the two little boy's that played the ? of norman and paul they were just brilliant children are often left out of the ? list i think because the stars that play them all grown up are such a big profile for the whole film but these children are amazing and should be praised for what they have done don't you think the whole story was so lovely because it was true and was someone's life after all that was shared with us all\""
            ]
          },
          "metadata": {
            "tags": []
          },
          "execution_count": 6
        }
      ]
    },
    {
      "cell_type": "markdown",
      "metadata": {
        "id": "4Blc5z8o8MRf",
        "colab_type": "text"
      },
      "source": [
        "Encoding the integer sequences into a binary matrix"
      ]
    },
    {
      "cell_type": "code",
      "metadata": {
        "id": "45E70GKj6jFF",
        "colab_type": "code",
        "colab": {}
      },
      "source": [
        "import numpy as np\n",
        "def vectorize_sequences(sequences, dimension= 10000):\n",
        "  results = np.zeros((len(sequences),dimension))\n",
        "  for i, sequence in enumerate(sequences):\n",
        "    results[i,sequence] = 1.\n",
        "  return results\n",
        "# lost the sequence in the vectorization\n",
        "x_train = vectorize_sequences(train_data)\n",
        "x_test = vectorize_sequences(test_data)"
      ],
      "execution_count": 0,
      "outputs": []
    },
    {
      "cell_type": "code",
      "metadata": {
        "id": "zv03wMGK8pcR",
        "colab_type": "code",
        "colab": {
          "base_uri": "https://localhost:8080/",
          "height": 34
        },
        "outputId": "ce1a6da6-12f3-4023-f29a-45d39e4b3b2c"
      },
      "source": [
        "x_train[0]"
      ],
      "execution_count": 8,
      "outputs": [
        {
          "output_type": "execute_result",
          "data": {
            "text/plain": [
              "array([0., 1., 1., ..., 0., 0., 0.])"
            ]
          },
          "metadata": {
            "tags": []
          },
          "execution_count": 8
        }
      ]
    },
    {
      "cell_type": "code",
      "metadata": {
        "id": "34GdB18x9K7i",
        "colab_type": "code",
        "colab": {}
      },
      "source": [
        "# vectorize labels\n",
        "y_train = np.asarray(train_labels).astype('float32')\n",
        "y_test = np.asarray(test_labels).astype('float32')"
      ],
      "execution_count": 0,
      "outputs": []
    },
    {
      "cell_type": "markdown",
      "metadata": {
        "id": "heFqUbXvAdca",
        "colab_type": "text"
      },
      "source": [
        "The model definition"
      ]
    },
    {
      "cell_type": "code",
      "metadata": {
        "id": "W2OMf0AO9rkn",
        "colab_type": "code",
        "colab": {}
      },
      "source": [
        "from keras import models\n",
        "from keras import layers\n",
        "\n",
        "model = models.Sequential()\n",
        "model.add(layers.Dense(16, activation='relu', input_shape=(10000,)))\n",
        "model.add(layers.Dense(16, activation='relu'))\n",
        "model.add(layers.Dense(1, activation='sigmoid'))"
      ],
      "execution_count": 0,
      "outputs": []
    },
    {
      "cell_type": "code",
      "metadata": {
        "id": "-uAXlMI_A28g",
        "colab_type": "code",
        "colab": {}
      },
      "source": [
        "# compile the model and pick loss function and optimizer\n",
        "from keras import optimizers # allow you to configure optimizer\n",
        "from keras import losses # custom losses\n",
        "from keras import metrics # custom metrics\n",
        "\n",
        "model.compile(optimizer = optimizers.RMSprop(lr=0.01),\n",
        "              loss=losses.binary_crossentropy,\n",
        "              metrics=[metrics.binary_accuracy])"
      ],
      "execution_count": 0,
      "outputs": []
    },
    {
      "cell_type": "markdown",
      "metadata": {
        "id": "Ul9G3xYbDQ7e",
        "colab_type": "text"
      },
      "source": [
        "Setting aside a validation set"
      ]
    },
    {
      "cell_type": "code",
      "metadata": {
        "id": "4Xo5kLtyB9Zd",
        "colab_type": "code",
        "colab": {}
      },
      "source": [
        "x_val = x_train[:10000]\n",
        "partial_x_train = x_train[10000:]\n",
        "y_val = y_train[:10000]\n",
        "partial_y_train = y_train[10000:]"
      ],
      "execution_count": 0,
      "outputs": []
    },
    {
      "cell_type": "markdown",
      "metadata": {
        "id": "6WyON3R4Eoss",
        "colab_type": "text"
      },
      "source": [
        "Training model"
      ]
    },
    {
      "cell_type": "code",
      "metadata": {
        "id": "v3jMzS8IDfXz",
        "colab_type": "code",
        "colab": {
          "base_uri": "https://localhost:8080/",
          "height": 714
        },
        "outputId": "f60198d4-796f-4558-a25a-25d7a7407801"
      },
      "source": [
        "model.compile(optimizer = 'rmsprop',\n",
        "              loss='binary_crossentropy',\n",
        "              metrics=['acc'])\n",
        "\n",
        "history = model.fit(partial_x_train,\n",
        "                    partial_y_train,\n",
        "                    epochs=20,\n",
        "                    batch_size=512,\n",
        "                    validation_data=(x_val,y_val))"
      ],
      "execution_count": 18,
      "outputs": [
        {
          "output_type": "stream",
          "text": [
            "Train on 15000 samples, validate on 10000 samples\n",
            "Epoch 1/20\n",
            "15000/15000 [==============================] - 2s 145us/step - loss: 2.9312e-06 - acc: 1.0000 - val_loss: 1.6864 - val_acc: 0.8668\n",
            "Epoch 2/20\n",
            "15000/15000 [==============================] - 1s 95us/step - loss: 8.9685e-07 - acc: 1.0000 - val_loss: 1.7935 - val_acc: 0.8678\n",
            "Epoch 3/20\n",
            "15000/15000 [==============================] - 1s 95us/step - loss: 4.2014e-07 - acc: 1.0000 - val_loss: 1.8886 - val_acc: 0.8673\n",
            "Epoch 4/20\n",
            "15000/15000 [==============================] - 1s 95us/step - loss: 2.1850e-07 - acc: 1.0000 - val_loss: 1.9607 - val_acc: 0.8675\n",
            "Epoch 5/20\n",
            "15000/15000 [==============================] - 1s 93us/step - loss: 1.2577e-07 - acc: 1.0000 - val_loss: 2.0356 - val_acc: 0.8676\n",
            "Epoch 6/20\n",
            "15000/15000 [==============================] - 1s 93us/step - loss: 7.6739e-08 - acc: 1.0000 - val_loss: 2.0987 - val_acc: 0.8674\n",
            "Epoch 7/20\n",
            "15000/15000 [==============================] - 1s 93us/step - loss: 5.0790e-08 - acc: 1.0000 - val_loss: 2.1471 - val_acc: 0.8668\n",
            "Epoch 8/20\n",
            "15000/15000 [==============================] - 1s 93us/step - loss: 3.7140e-08 - acc: 1.0000 - val_loss: 2.1880 - val_acc: 0.8667\n",
            "Epoch 9/20\n",
            "15000/15000 [==============================] - 1s 93us/step - loss: 2.8054e-08 - acc: 1.0000 - val_loss: 2.2260 - val_acc: 0.8665\n",
            "Epoch 10/20\n",
            "15000/15000 [==============================] - 1s 93us/step - loss: 2.1998e-08 - acc: 1.0000 - val_loss: 2.2567 - val_acc: 0.8664\n",
            "Epoch 11/20\n",
            "15000/15000 [==============================] - 1s 95us/step - loss: 1.7947e-08 - acc: 1.0000 - val_loss: 2.2822 - val_acc: 0.8662\n",
            "Epoch 12/20\n",
            "15000/15000 [==============================] - 1s 94us/step - loss: 1.4956e-08 - acc: 1.0000 - val_loss: 2.3049 - val_acc: 0.8662\n",
            "Epoch 13/20\n",
            "15000/15000 [==============================] - 1s 93us/step - loss: 1.2753e-08 - acc: 1.0000 - val_loss: 2.3256 - val_acc: 0.8662\n",
            "Epoch 14/20\n",
            "15000/15000 [==============================] - 1s 93us/step - loss: 1.1066e-08 - acc: 1.0000 - val_loss: 2.3439 - val_acc: 0.8662\n",
            "Epoch 15/20\n",
            "15000/15000 [==============================] - 1s 97us/step - loss: 9.7295e-09 - acc: 1.0000 - val_loss: 2.3630 - val_acc: 0.8665\n",
            "Epoch 16/20\n",
            "15000/15000 [==============================] - 1s 96us/step - loss: 8.5317e-09 - acc: 1.0000 - val_loss: 2.3765 - val_acc: 0.8665\n",
            "Epoch 17/20\n",
            "15000/15000 [==============================] - 1s 96us/step - loss: 7.7585e-09 - acc: 1.0000 - val_loss: 2.3899 - val_acc: 0.8662\n",
            "Epoch 18/20\n",
            "15000/15000 [==============================] - 1s 96us/step - loss: 7.0422e-09 - acc: 1.0000 - val_loss: 2.4021 - val_acc: 0.8664\n",
            "Epoch 19/20\n",
            "15000/15000 [==============================] - 1s 94us/step - loss: 6.4437e-09 - acc: 1.0000 - val_loss: 2.4139 - val_acc: 0.8662\n",
            "Epoch 20/20\n",
            "15000/15000 [==============================] - 1s 99us/step - loss: 5.9290e-09 - acc: 1.0000 - val_loss: 2.4249 - val_acc: 0.8663\n"
          ],
          "name": "stdout"
        }
      ]
    },
    {
      "cell_type": "code",
      "metadata": {
        "id": "URks_S4xE15r",
        "colab_type": "code",
        "colab": {
          "base_uri": "https://localhost:8080/",
          "height": 34
        },
        "outputId": "9bdd27c4-cd3a-44df-858f-7987e2e7a130"
      },
      "source": [
        "history_dict = history.history\n",
        "history_dict.keys()"
      ],
      "execution_count": 19,
      "outputs": [
        {
          "output_type": "execute_result",
          "data": {
            "text/plain": [
              "dict_keys(['val_loss', 'val_acc', 'loss', 'acc'])"
            ]
          },
          "metadata": {
            "tags": []
          },
          "execution_count": 19
        }
      ]
    },
    {
      "cell_type": "markdown",
      "metadata": {
        "id": "wIenCSOYG1Sm",
        "colab_type": "text"
      },
      "source": [
        "Plotting the training and validation loss"
      ]
    },
    {
      "cell_type": "code",
      "metadata": {
        "id": "NA8YIuSCGWA-",
        "colab_type": "code",
        "colab": {
          "base_uri": "https://localhost:8080/",
          "height": 295
        },
        "outputId": "54e1a9ff-13ab-48a6-dcc5-c54605a37ddc"
      },
      "source": [
        "import matplotlib.pyplot as plt\n",
        "\n",
        "history_dict = history.history\n",
        "loss_values = history_dict['loss']\n",
        "val_loss_values = history_dict['val_loss']\n",
        "acc = history_dict['acc']\n",
        "\n",
        "epochs = range(1, len(acc) + 1)\n",
        "plt.plot(epochs, loss_values, 'bo', label='Training loss')\n",
        "plt.plot(epochs, val_loss_values, 'b', label='Validation loss')\n",
        "plt.title('Training and validation loss')\n",
        "plt.xlabel('Epochs')\n",
        "plt.ylabel('Loss')\n",
        "plt.legend()\n",
        "\n",
        "plt.show()"
      ],
      "execution_count": 23,
      "outputs": [
        {
          "output_type": "display_data",
          "data": {
            "image/png": "[encoded data removed]",
            "text/plain": [
              "<Figure size 432x288 with 1 Axes>"
            ]
          },
          "metadata": {
            "tags": [],
            "needs_background": "light"
          }
        }
      ]
    },
    {
      "cell_type": "markdown",
      "metadata": {
        "id": "7qu28zyHID9U",
        "colab_type": "text"
      },
      "source": [
        "Plot the training and validation accuracy"
      ]
    },
    {
      "cell_type": "code",
      "metadata": {
        "id": "F0O_0JHeHlOG",
        "colab_type": "code",
        "colab": {
          "base_uri": "https://localhost:8080/",
          "height": 295
        },
        "outputId": "fe782119-02f2-45aa-9893-8856b1572e86"
      },
      "source": [
        "plt.clf() # clears the figure\n",
        "acc_values = history_dict['acc']\n",
        "val_acc = history_dict['val_acc']\n",
        "plt.plot(epochs, acc, 'bo', label='Training acc')\n",
        "plt.plot(epochs, val_acc, 'b', label='Validation acc')\n",
        "plt.title('Training and validation accuracy')\n",
        "plt.xlabel('Epochs')\n",
        "plt.ylabel('Loss')\n",
        "plt.legend()\n",
        "plt.show()"
      ],
      "execution_count": 26,
      "outputs": [
        {
          "output_type": "display_data",
          "data": {
            "image/png": "[encoded data removed]",
            "text/plain": [
              "<Figure size 432x288 with 1 Axes>"
            ]
          },
          "metadata": {
            "tags": [],
            "needs_background": "light"
          }
        }
      ]
    },
    {
      "cell_type": "markdown",
      "metadata": {
        "id": "waTMMaG5I_sM",
        "colab_type": "text"
      },
      "source": [
        "# run into overfitting."
      ]
    },
    {
      "cell_type": "code",
      "metadata": {
        "id": "OPQAncszINY-",
        "colab_type": "code",
        "colab": {
          "base_uri": "https://localhost:8080/",
          "height": 170
        },
        "outputId": "80b0328d-a2b4-418b-cffb-e825089e2e40"
      },
      "source": [
        "model.fit(x_train, y_train, epochs=4, batch_size=512)\n",
        "results = model.evaluate(x_test, y_test)"
      ],
      "execution_count": 27,
      "outputs": [
        {
          "output_type": "stream",
          "text": [
            "Epoch 1/4\n",
            "25000/25000 [==============================] - 3s 127us/step - loss: 0.7759 - acc: 0.9449\n",
            "Epoch 2/4\n",
            "25000/25000 [==============================] - 2s 66us/step - loss: 0.4180 - acc: 0.9473\n",
            "Epoch 3/4\n",
            "25000/25000 [==============================] - 2s 66us/step - loss: 0.2474 - acc: 0.9535\n",
            "Epoch 4/4\n",
            "25000/25000 [==============================] - 2s 64us/step - loss: 0.1584 - acc: 0.9595\n",
            "25000/25000 [==============================] - 2s 62us/step\n"
          ],
          "name": "stdout"
        }
      ]
    },
    {
      "cell_type": "code",
      "metadata": {
        "id": "jDvrP8sqJVAE",
        "colab_type": "code",
        "colab": {
          "base_uri": "https://localhost:8080/",
          "height": 34
        },
        "outputId": "5ba4115f-24a7-40ea-d0d2-036cc967c79d"
      },
      "source": [
        "results"
      ],
      "execution_count": 28,
      "outputs": [
        {
          "output_type": "execute_result",
          "data": {
            "text/plain": [
              "[0.5455396549892425, 0.8483200073242188]"
            ]
          },
          "metadata": {
            "tags": []
          },
          "execution_count": 28
        }
      ]
    },
    {
      "cell_type": "markdown",
      "metadata": {
        "id": "99I1YEohKJ5D",
        "colab_type": "text"
      },
      "source": [
        "Predict the likelyhood of reviews being positive"
      ]
    },
    {
      "cell_type": "code",
      "metadata": {
        "id": "uxpBgKSfJ97n",
        "colab_type": "code",
        "colab": {
          "base_uri": "https://localhost:8080/",
          "height": 136
        },
        "outputId": "25fdf9cc-9f70-4a37-d769-58885d2bb99b"
      },
      "source": [
        "model.predict(x_test)"
      ],
      "execution_count": 29,
      "outputs": [
        {
          "output_type": "execute_result",
          "data": {
            "text/plain": [
              "array([[0.13484997],\n",
              "       [1.        ],\n",
              "       [0.99723244],\n",
              "       ...,\n",
              "       [0.04441482],\n",
              "       [0.10958162],\n",
              "       [0.74347055]], dtype=float32)"
            ]
          },
          "metadata": {
            "tags": []
          },
          "execution_count": 29
        }
      ]
    },
    {
      "cell_type": "markdown",
      "metadata": {
        "id": "pEZ0jWi0Kptg",
        "colab_type": "text"
      },
      "source": [
        "Try one hidden layer"
      ]
    },
    {
      "cell_type": "code",
      "metadata": {
        "id": "omUGoK7NKWOc",
        "colab_type": "code",
        "colab": {
          "base_uri": "https://localhost:8080/",
          "height": 714
        },
        "outputId": "c67d1315-c130-4b58-9da8-035722174b8e"
      },
      "source": [
        "model = models.Sequential()\n",
        "model.add(layers.Dense(16, activation='relu', input_shape=(10000,)))\n",
        "model.add(layers.Dense(1, activation='sigmoid'))\n",
        "\n",
        "model.compile(optimizer = 'rmsprop',\n",
        "              loss='binary_crossentropy',\n",
        "              metrics=['acc'])\n",
        "\n",
        "history = model.fit(partial_x_train,\n",
        "                    partial_y_train,\n",
        "                    epochs=20,\n",
        "                    batch_size=512,\n",
        "                    validation_data=(x_val,y_val))"
      ],
      "execution_count": 30,
      "outputs": [
        {
          "output_type": "stream",
          "text": [
            "Train on 15000 samples, validate on 10000 samples\n",
            "Epoch 1/20\n",
            "15000/15000 [==============================] - 2s 103us/step - loss: 0.4840 - acc: 0.8047 - val_loss: 0.3739 - val_acc: 0.8755\n",
            "Epoch 2/20\n",
            "15000/15000 [==============================] - 1s 92us/step - loss: 0.3040 - acc: 0.9063 - val_loss: 0.3097 - val_acc: 0.8866\n",
            "Epoch 3/20\n",
            "15000/15000 [==============================] - 1s 92us/step - loss: 0.2344 - acc: 0.9257 - val_loss: 0.2881 - val_acc: 0.8880\n",
            "Epoch 4/20\n",
            "15000/15000 [==============================] - 1s 93us/step - loss: 0.1936 - acc: 0.9415 - val_loss: 0.3054 - val_acc: 0.8765\n",
            "Epoch 5/20\n",
            "15000/15000 [==============================] - 1s 95us/step - loss: 0.1639 - acc: 0.9522 - val_loss: 0.2762 - val_acc: 0.8889\n",
            "Epoch 6/20\n",
            "15000/15000 [==============================] - 1s 94us/step - loss: 0.1414 - acc: 0.9583 - val_loss: 0.2949 - val_acc: 0.8793\n",
            "Epoch 7/20\n",
            "15000/15000 [==============================] - 1s 93us/step - loss: 0.1246 - acc: 0.9646 - val_loss: 0.2866 - val_acc: 0.8862\n",
            "Epoch 8/20\n",
            "15000/15000 [==============================] - 1s 94us/step - loss: 0.1091 - acc: 0.9693 - val_loss: 0.2971 - val_acc: 0.8815\n",
            "Epoch 9/20\n",
            "15000/15000 [==============================] - 1s 96us/step - loss: 0.0959 - acc: 0.9752 - val_loss: 0.3019 - val_acc: 0.8853\n",
            "Epoch 10/20\n",
            "15000/15000 [==============================] - 1s 92us/step - loss: 0.0850 - acc: 0.9779 - val_loss: 0.3129 - val_acc: 0.8850\n",
            "Epoch 11/20\n",
            "15000/15000 [==============================] - 1s 92us/step - loss: 0.0755 - acc: 0.9819 - val_loss: 0.3293 - val_acc: 0.8783\n",
            "Epoch 12/20\n",
            "15000/15000 [==============================] - 1s 95us/step - loss: 0.0660 - acc: 0.9859 - val_loss: 0.3479 - val_acc: 0.8739\n",
            "Epoch 13/20\n",
            "15000/15000 [==============================] - 1s 91us/step - loss: 0.0583 - acc: 0.9875 - val_loss: 0.3742 - val_acc: 0.8754\n",
            "Epoch 14/20\n",
            "15000/15000 [==============================] - 1s 92us/step - loss: 0.0515 - acc: 0.9892 - val_loss: 0.3804 - val_acc: 0.8715\n",
            "Epoch 15/20\n",
            "15000/15000 [==============================] - 1s 91us/step - loss: 0.0445 - acc: 0.9924 - val_loss: 0.3989 - val_acc: 0.8759\n",
            "Epoch 16/20\n",
            "15000/15000 [==============================] - 1s 92us/step - loss: 0.0400 - acc: 0.9935 - val_loss: 0.4036 - val_acc: 0.8757\n",
            "Epoch 17/20\n",
            "15000/15000 [==============================] - 1s 93us/step - loss: 0.0338 - acc: 0.9951 - val_loss: 0.4247 - val_acc: 0.8715\n",
            "Epoch 18/20\n",
            "15000/15000 [==============================] - 1s 92us/step - loss: 0.0308 - acc: 0.9955 - val_loss: 0.4413 - val_acc: 0.8742\n",
            "Epoch 19/20\n",
            "15000/15000 [==============================] - 1s 94us/step - loss: 0.0260 - acc: 0.9970 - val_loss: 0.4699 - val_acc: 0.8726\n",
            "Epoch 20/20\n",
            "15000/15000 [==============================] - 1s 92us/step - loss: 0.0232 - acc: 0.9975 - val_loss: 0.4897 - val_acc: 0.8646\n"
          ],
          "name": "stdout"
        }
      ]
    },
    {
      "cell_type": "markdown",
      "metadata": {
        "id": "O0_TDPleLF7-",
        "colab_type": "text"
      },
      "source": [
        "# one hidden layers train faster, not as good"
      ]
    },
    {
      "cell_type": "markdown",
      "metadata": {
        "id": "SSNhd9bXLYxg",
        "colab_type": "text"
      },
      "source": [
        "try using larger hidden layers (64 units)\n"
      ]
    },
    {
      "cell_type": "code",
      "metadata": {
        "id": "TGf8NaajK5JQ",
        "colab_type": "code",
        "colab": {
          "base_uri": "https://localhost:8080/",
          "height": 714
        },
        "outputId": "d1d7cbfd-b06a-40e1-ca7b-a6efe838369c"
      },
      "source": [
        "model = models.Sequential()\n",
        "model.add(layers.Dense(64, activation='relu', input_shape=(10000,)))\n",
        "model.add(layers.Dense(1, activation='sigmoid'))\n",
        "\n",
        "model.compile(optimizer = 'rmsprop',\n",
        "              loss='binary_crossentropy',\n",
        "              metrics=['acc'])\n",
        "\n",
        "history = model.fit(partial_x_train,\n",
        "                    partial_y_train,\n",
        "                    epochs=20,\n",
        "                    batch_size=512,\n",
        "                    validation_data=(x_val,y_val))"
      ],
      "execution_count": 31,
      "outputs": [
        {
          "output_type": "stream",
          "text": [
            "Train on 15000 samples, validate on 10000 samples\n",
            "Epoch 1/20\n",
            "15000/15000 [==============================] - 2s 146us/step - loss: 0.4691 - acc: 0.7997 - val_loss: 0.3571 - val_acc: 0.8648\n",
            "Epoch 2/20\n",
            "15000/15000 [==============================] - 2s 132us/step - loss: 0.2718 - acc: 0.9085 - val_loss: 0.3073 - val_acc: 0.8759\n",
            "Epoch 3/20\n",
            "15000/15000 [==============================] - 2s 134us/step - loss: 0.2030 - acc: 0.9351 - val_loss: 0.3255 - val_acc: 0.8667\n",
            "Epoch 4/20\n",
            "15000/15000 [==============================] - 2s 133us/step - loss: 0.1646 - acc: 0.9461 - val_loss: 0.2772 - val_acc: 0.8904\n",
            "Epoch 5/20\n",
            "15000/15000 [==============================] - 2s 136us/step - loss: 0.1343 - acc: 0.9589 - val_loss: 0.2833 - val_acc: 0.8883\n",
            "Epoch 6/20\n",
            "15000/15000 [==============================] - 2s 136us/step - loss: 0.1155 - acc: 0.9646 - val_loss: 0.2963 - val_acc: 0.8844\n",
            "Epoch 7/20\n",
            "15000/15000 [==============================] - 2s 136us/step - loss: 0.0929 - acc: 0.9725 - val_loss: 0.3124 - val_acc: 0.8822\n",
            "Epoch 8/20\n",
            "15000/15000 [==============================] - 2s 133us/step - loss: 0.0772 - acc: 0.9794 - val_loss: 0.3374 - val_acc: 0.8818\n",
            "Epoch 9/20\n",
            "15000/15000 [==============================] - 2s 134us/step - loss: 0.0669 - acc: 0.9817 - val_loss: 0.3715 - val_acc: 0.8721\n",
            "Epoch 10/20\n",
            "15000/15000 [==============================] - 2s 136us/step - loss: 0.0549 - acc: 0.9865 - val_loss: 0.3794 - val_acc: 0.8803\n",
            "Epoch 11/20\n",
            "15000/15000 [==============================] - 2s 134us/step - loss: 0.0474 - acc: 0.9889 - val_loss: 0.4543 - val_acc: 0.8611\n",
            "Epoch 12/20\n",
            "15000/15000 [==============================] - 2s 134us/step - loss: 0.0375 - acc: 0.9927 - val_loss: 0.4255 - val_acc: 0.8729\n",
            "Epoch 13/20\n",
            "15000/15000 [==============================] - 2s 133us/step - loss: 0.0331 - acc: 0.9933 - val_loss: 0.4485 - val_acc: 0.8751\n",
            "Epoch 14/20\n",
            "15000/15000 [==============================] - 2s 132us/step - loss: 0.0272 - acc: 0.9949 - val_loss: 0.4869 - val_acc: 0.8716\n",
            "Epoch 15/20\n",
            "15000/15000 [==============================] - 2s 132us/step - loss: 0.0227 - acc: 0.9964 - val_loss: 0.5010 - val_acc: 0.8704\n",
            "Epoch 16/20\n",
            "15000/15000 [==============================] - 2s 132us/step - loss: 0.0173 - acc: 0.9987 - val_loss: 0.5444 - val_acc: 0.8705\n",
            "Epoch 17/20\n",
            "15000/15000 [==============================] - 2s 134us/step - loss: 0.0159 - acc: 0.9974 - val_loss: 0.5593 - val_acc: 0.8693\n",
            "Epoch 18/20\n",
            "15000/15000 [==============================] - 2s 134us/step - loss: 0.0119 - acc: 0.9991 - val_loss: 0.5885 - val_acc: 0.8687\n",
            "Epoch 19/20\n",
            "15000/15000 [==============================] - 2s 134us/step - loss: 0.0100 - acc: 0.9993 - val_loss: 0.6206 - val_acc: 0.8644\n",
            "Epoch 20/20\n",
            "15000/15000 [==============================] - 2s 133us/step - loss: 0.0087 - acc: 0.9993 - val_loss: 0.6498 - val_acc: 0.8642\n"
          ],
          "name": "stdout"
        }
      ]
    },
    {
      "cell_type": "markdown",
      "metadata": {
        "id": "2eYQw6GFLxzt",
        "colab_type": "text"
      },
      "source": [
        "more hidden units also don't help the training. train slow"
      ]
    },
    {
      "cell_type": "markdown",
      "metadata": {
        "id": "Ne4V9cjEL65E",
        "colab_type": "text"
      },
      "source": [
        "try using mse loss function"
      ]
    },
    {
      "cell_type": "code",
      "metadata": {
        "id": "cmUnGuVXMAkc",
        "colab_type": "code",
        "colab": {
          "base_uri": "https://localhost:8080/",
          "height": 714
        },
        "outputId": "56199fd9-54dc-43e6-849d-9d52e0905f93"
      },
      "source": [
        "model = models.Sequential()\n",
        "model.add(layers.Dense(64, activation='relu', input_shape=(10000,)))\n",
        "model.add(layers.Dense(1, activation='sigmoid'))\n",
        "\n",
        "model.compile(optimizer = 'rmsprop',\n",
        "              loss='mse',\n",
        "              metrics=['acc'])\n",
        "\n",
        "history = model.fit(partial_x_train,\n",
        "                    partial_y_train,\n",
        "                    epochs=20,\n",
        "                    batch_size=512,\n",
        "                    validation_data=(x_val,y_val))"
      ],
      "execution_count": 32,
      "outputs": [
        {
          "output_type": "stream",
          "text": [
            "Train on 15000 samples, validate on 10000 samples\n",
            "Epoch 1/20\n",
            "15000/15000 [==============================] - 2s 162us/step - loss: 0.1539 - acc: 0.7977 - val_loss: 0.1073 - val_acc: 0.8708\n",
            "Epoch 2/20\n",
            "15000/15000 [==============================] - 2s 135us/step - loss: 0.0807 - acc: 0.9102 - val_loss: 0.0890 - val_acc: 0.8891\n",
            "Epoch 3/20\n",
            "15000/15000 [==============================] - 2s 132us/step - loss: 0.0600 - acc: 0.9327 - val_loss: 0.0834 - val_acc: 0.8920\n",
            "Epoch 4/20\n",
            "15000/15000 [==============================] - 2s 136us/step - loss: 0.0468 - acc: 0.9505 - val_loss: 0.0838 - val_acc: 0.8883\n",
            "Epoch 5/20\n",
            "15000/15000 [==============================] - 2s 136us/step - loss: 0.0379 - acc: 0.9616 - val_loss: 0.0917 - val_acc: 0.8760\n",
            "Epoch 6/20\n",
            "15000/15000 [==============================] - 2s 132us/step - loss: 0.0328 - acc: 0.9690 - val_loss: 0.0860 - val_acc: 0.8829\n",
            "Epoch 7/20\n",
            "15000/15000 [==============================] - 2s 135us/step - loss: 0.0260 - acc: 0.9754 - val_loss: 0.0866 - val_acc: 0.8822\n",
            "Epoch 8/20\n",
            "15000/15000 [==============================] - 2s 136us/step - loss: 0.0230 - acc: 0.9793 - val_loss: 0.0886 - val_acc: 0.8809\n",
            "Epoch 9/20\n",
            "15000/15000 [==============================] - 2s 134us/step - loss: 0.0191 - acc: 0.9833 - val_loss: 0.0910 - val_acc: 0.8771\n",
            "Epoch 10/20\n",
            "15000/15000 [==============================] - 2s 135us/step - loss: 0.0156 - acc: 0.9879 - val_loss: 0.0933 - val_acc: 0.8749\n",
            "Epoch 11/20\n",
            "15000/15000 [==============================] - 2s 135us/step - loss: 0.0135 - acc: 0.9901 - val_loss: 0.0967 - val_acc: 0.8720\n",
            "Epoch 12/20\n",
            "15000/15000 [==============================] - 2s 136us/step - loss: 0.0119 - acc: 0.9918 - val_loss: 0.0972 - val_acc: 0.8729\n",
            "Epoch 13/20\n",
            "15000/15000 [==============================] - 2s 135us/step - loss: 0.0107 - acc: 0.9919 - val_loss: 0.1011 - val_acc: 0.8684\n",
            "Epoch 14/20\n",
            "15000/15000 [==============================] - 2s 136us/step - loss: 0.0088 - acc: 0.9933 - val_loss: 0.1008 - val_acc: 0.8689\n",
            "Epoch 15/20\n",
            "15000/15000 [==============================] - 2s 135us/step - loss: 0.0083 - acc: 0.9930 - val_loss: 0.1026 - val_acc: 0.8692\n",
            "Epoch 16/20\n",
            "15000/15000 [==============================] - 2s 134us/step - loss: 0.0058 - acc: 0.9960 - val_loss: 0.1059 - val_acc: 0.8683\n",
            "Epoch 17/20\n",
            "15000/15000 [==============================] - 2s 133us/step - loss: 0.0067 - acc: 0.9947 - val_loss: 0.1060 - val_acc: 0.8659\n",
            "Epoch 18/20\n",
            "15000/15000 [==============================] - 2s 136us/step - loss: 0.0045 - acc: 0.9965 - val_loss: 0.1168 - val_acc: 0.8568\n",
            "Epoch 19/20\n",
            "15000/15000 [==============================] - 2s 132us/step - loss: 0.0054 - acc: 0.9955 - val_loss: 0.1084 - val_acc: 0.8656\n",
            "Epoch 20/20\n",
            "15000/15000 [==============================] - 2s 135us/step - loss: 0.0034 - acc: 0.9972 - val_loss: 0.1189 - val_acc: 0.8552\n"
          ],
          "name": "stdout"
        }
      ]
    },
    {
      "cell_type": "markdown",
      "metadata": {
        "id": "O1tVFDQdL9T7",
        "colab_type": "text"
      },
      "source": [
        "try using tanh acitivation function"
      ]
    },
    {
      "cell_type": "code",
      "metadata": {
        "id": "wCOc8rqpLgl7",
        "colab_type": "code",
        "colab": {
          "base_uri": "https://localhost:8080/",
          "height": 714
        },
        "outputId": "f6369df6-7040-46e3-d699-5ea575cf3fc3"
      },
      "source": [
        "model = models.Sequential()\n",
        "model.add(layers.Dense(64, activation='tanh', input_shape=(10000,)))\n",
        "model.add(layers.Dense(1, activation='sigmoid'))\n",
        "\n",
        "model.compile(optimizer = 'rmsprop',\n",
        "              loss='binary_crossentropy',\n",
        "              metrics=['acc'])\n",
        "\n",
        "history = model.fit(partial_x_train,\n",
        "                    partial_y_train,\n",
        "                    epochs=20,\n",
        "                    batch_size=512,\n",
        "                    validation_data=(x_val,y_val))"
      ],
      "execution_count": 33,
      "outputs": [
        {
          "output_type": "stream",
          "text": [
            "Train on 15000 samples, validate on 10000 samples\n",
            "Epoch 1/20\n",
            "15000/15000 [==============================] - 2s 143us/step - loss: 0.4749 - acc: 0.8017 - val_loss: 0.3420 - val_acc: 0.8787\n",
            "Epoch 2/20\n",
            "15000/15000 [==============================] - 2s 138us/step - loss: 0.2660 - acc: 0.9107 - val_loss: 0.2991 - val_acc: 0.8811\n",
            "Epoch 3/20\n",
            "15000/15000 [==============================] - 2s 132us/step - loss: 0.1964 - acc: 0.9321 - val_loss: 0.2747 - val_acc: 0.8903\n",
            "Epoch 4/20\n",
            "15000/15000 [==============================] - 2s 132us/step - loss: 0.1510 - acc: 0.9495 - val_loss: 0.2868 - val_acc: 0.8870\n",
            "Epoch 5/20\n",
            "15000/15000 [==============================] - 2s 136us/step - loss: 0.1236 - acc: 0.9579 - val_loss: 0.3117 - val_acc: 0.8820\n",
            "Epoch 6/20\n",
            "15000/15000 [==============================] - 2s 133us/step - loss: 0.0941 - acc: 0.9701 - val_loss: 0.3574 - val_acc: 0.8728\n",
            "Epoch 7/20\n",
            "15000/15000 [==============================] - 2s 137us/step - loss: 0.0790 - acc: 0.9752 - val_loss: 0.3621 - val_acc: 0.8761\n",
            "Epoch 8/20\n",
            "15000/15000 [==============================] - 2s 135us/step - loss: 0.0645 - acc: 0.9805 - val_loss: 0.3904 - val_acc: 0.8779\n",
            "Epoch 9/20\n",
            "15000/15000 [==============================] - 2s 135us/step - loss: 0.0508 - acc: 0.9849 - val_loss: 0.4299 - val_acc: 0.8716\n",
            "Epoch 10/20\n",
            "15000/15000 [==============================] - 2s 133us/step - loss: 0.0423 - acc: 0.9885 - val_loss: 0.4653 - val_acc: 0.8738\n",
            "Epoch 11/20\n",
            "15000/15000 [==============================] - 2s 135us/step - loss: 0.0373 - acc: 0.9900 - val_loss: 0.5033 - val_acc: 0.8732\n",
            "Epoch 12/20\n",
            "15000/15000 [==============================] - 2s 136us/step - loss: 0.0235 - acc: 0.9945 - val_loss: 0.5445 - val_acc: 0.8721\n",
            "Epoch 13/20\n",
            "15000/15000 [==============================] - 2s 132us/step - loss: 0.0195 - acc: 0.9953 - val_loss: 0.5908 - val_acc: 0.8684\n",
            "Epoch 14/20\n",
            "15000/15000 [==============================] - 2s 134us/step - loss: 0.0201 - acc: 0.9954 - val_loss: 0.6334 - val_acc: 0.8687\n",
            "Epoch 15/20\n",
            "15000/15000 [==============================] - 2s 134us/step - loss: 0.0147 - acc: 0.9967 - val_loss: 0.6804 - val_acc: 0.8683\n",
            "Epoch 16/20\n",
            "15000/15000 [==============================] - 2s 137us/step - loss: 0.0174 - acc: 0.9956 - val_loss: 0.7241 - val_acc: 0.8671\n",
            "Epoch 17/20\n",
            "15000/15000 [==============================] - 2s 137us/step - loss: 0.0043 - acc: 0.9997 - val_loss: 0.7564 - val_acc: 0.8671\n",
            "Epoch 18/20\n",
            "15000/15000 [==============================] - 2s 136us/step - loss: 0.0139 - acc: 0.9959 - val_loss: 0.8036 - val_acc: 0.8651\n",
            "Epoch 19/20\n",
            "15000/15000 [==============================] - 2s 138us/step - loss: 0.0025 - acc: 0.9999 - val_loss: 0.8358 - val_acc: 0.8641\n",
            "Epoch 20/20\n",
            "15000/15000 [==============================] - 2s 136us/step - loss: 0.0125 - acc: 0.9960 - val_loss: 0.8953 - val_acc: 0.8645\n"
          ],
          "name": "stdout"
        }
      ]
    },
    {
      "cell_type": "code",
      "metadata": {
        "id": "8IDvQCmPMSSM",
        "colab_type": "code",
        "colab": {}
      },
      "source": [
        ""
      ],
      "execution_count": 0,
      "outputs": []
    }
  ]
}